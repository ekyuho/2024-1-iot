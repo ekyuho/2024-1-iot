{
  "nbformat": 4,
  "nbformat_minor": 0,
  "metadata": {
    "colab": {
      "provenance": [],
      "authorship_tag": "ABX9TyNNQmqjxuctnhhyXTP2f4jC",
      "include_colab_link": true
    },
    "kernelspec": {
      "name": "python3",
      "display_name": "Python 3"
    },
    "language_info": {
      "name": "python"
    }
  },
  "cells": [
    {
      "cell_type": "markdown",
      "metadata": {
        "id": "view-in-github",
        "colab_type": "text"
      },
      "source": [
        "<a href=\"https://colab.research.google.com/github/ekyuho/2024-1-iot/blob/main/whatsmatter.ipynb\" target=\"_parent\"><img src=\"https://colab.research.google.com/assets/colab-badge.svg\" alt=\"Open In Colab\"/></a>"
      ]
    },
    {
      "cell_type": "code",
      "execution_count": 11,
      "metadata": {
        "id": "K8QKamhK_7xj"
      },
      "outputs": [],
      "source": [
        "import requests\n",
        "import json\n",
        "\n",
        "# 전시장에서는 지정된 Static IP로 변경 필요\n",
        "url='http://175.197.63.177:8000/local/api/'\n",
        "\n",
        "def run(t, method, h, j, p):\n",
        "    #print(url+t, method, p, j)\n",
        "    if method=='get': r=requests.get(url+t, headers=h, params=p, timeout=10)\n",
        "    elif method=='post': r=requests.post(url+t, headers=h, json=j, timeout=10)\n",
        "    elif method=='put': r=requests.put(url+t, headers=h, json=j, timeout=10)\n",
        "    return r"
      ]
    },
    {
      "cell_type": "code",
      "source": [
        "print('1. 사용가능한 모든 디바이스 찾기')\n",
        "r=run('devices', 'get', h={}, j={}, p={})\n",
        "d1=r.json()\n",
        "#print(f'got {len(d1)} devices','\\n')\n",
        "\n",
        "# 한집의 표준 모델, 즉 어떤 대상 집에는 다음 4가지의 디바이스가 있다고 가정, Query를 통해 유무 확인\n",
        "#  entity_id: 사실상 instance_id\n",
        "#  나중에 와츠매터에서 매핑 정보 확정해 주어야 함.\n",
        "#  location: 물리적 방 구분 목적인데, 하나의 방으로 가정하고, 우리는 사용하지 않음\n",
        "# 10월10일 스마트라이프 전시에는 다음 네가지 디바이스를 설치함.\n",
        "house={'main-light':{'entity_id':'light.nano_vdevo'},\n",
        "       'desk-light':{'entity_id':'switch.otopeulreiseu_kaendeulweomeo'},\n",
        "       'curtain':{'entity_id':''},\n",
        "       'presense-sensor':{'entity_id':'binary_sensor.letianpai_presence_sensor_box_occupancy_2'}\n",
        "      }\n",
        "\n",
        "def match(d):\n",
        "    global house\n",
        "    for x in d1:\n",
        "        if house[d]['entity_id']==x['entity_id']:\n",
        "            house[d]['alias']=x['alias']\n",
        "            return True\n",
        "    return False\n",
        "\n",
        "for d in house:\n",
        "    if match(d): print('matched', house[d])"
      ],
      "metadata": {
        "colab": {
          "base_uri": "https://localhost:8080/"
        },
        "id": "sPEte1BAADGc",
        "outputId": "6409d593-61b5-484c-fc04-8e1bb18695e3"
      },
      "execution_count": 14,
      "outputs": [
        {
          "output_type": "stream",
          "name": "stdout",
          "text": [
            "1. 사용가능한 모든 디바이스 찾기\n",
            "matched {'entity_id': 'light.nano_vdevo', 'alias': '라이트 나노 램프'}\n",
            "matched {'entity_id': 'switch.otopeulreiseu_kaendeulweomeo', 'alias': '캔들워머램프 김동은 프로 사무실'}\n",
            "matched {'entity_id': 'binary_sensor.letianpai_presence_sensor_box_occupancy_2', 'alias': 'LetianPai 재실센서'}\n"
          ]
        }
      ]
    },
    {
      "cell_type": "code",
      "source": [
        "print('2. 각 디바이스 상태')\n",
        "def status(device):\n",
        "    d=house[device]\n",
        "    r=run(f\"states/{d['entity_id']}\", 'get', h={}, j={}, p={})\n",
        "    try:\n",
        "        d['state']=r.json()['state']\n",
        "    except:\n",
        "        d['state']=''\n",
        "    return d\n",
        "\n",
        "for x in house: print(status(x))"
      ],
      "metadata": {
        "id": "-u7b7L4PAc7g",
        "outputId": "b2fa0fa6-e15c-4efe-b637-7155b68a6889",
        "colab": {
          "base_uri": "https://localhost:8080/"
        }
      },
      "execution_count": 15,
      "outputs": [
        {
          "output_type": "stream",
          "name": "stdout",
          "text": [
            "2. 각 디바이스 상태\n",
            "{'entity_id': 'light.nano_vdevo', 'alias': '라이트 나노 램프', 'state': 'off'}\n",
            "{'entity_id': 'switch.otopeulreiseu_kaendeulweomeo', 'alias': '캔들워머램프 김동은 프로 사무실', 'state': 'off'}\n",
            "{'entity_id': '', 'state': ''}\n",
            "{'entity_id': 'binary_sensor.letianpai_presence_sensor_box_occupancy_2', 'alias': 'LetianPai 재실센서', 'state': 'off'}\n"
          ]
        }
      ]
    },
    {
      "cell_type": "code",
      "source": [
        "# {'main-light', 'desk-light', 'curtain', 'presense-sensor'}  {'on', 'off'}\n",
        "def onoff(device, cmd):\n",
        "  d=house[device]\n",
        "  domain=f'{d[\"entity_id\"].split(\".\")[0]}'\n",
        "  data={\"domain\": domain, \"service\" : f\"turn_{cmd}\"}\n",
        "  r=run(f\"devices/{d['entity_id']}/command\", 'post', h={}, j=data, p={})\n",
        "\n",
        "print('3. 전등/스위치 on')\n",
        "for x in house: # {'main-light', 'desk-light', 'curtain', 'presense-sensor'}\n",
        "  onoff(x, 'on')\n",
        "  print(status(x))"
      ],
      "metadata": {
        "id": "-jI0d-CdlJBl",
        "outputId": "0eddc9f2-6a78-49f9-c5d4-5df4dd34a879",
        "colab": {
          "base_uri": "https://localhost:8080/"
        }
      },
      "execution_count": 16,
      "outputs": [
        {
          "output_type": "stream",
          "name": "stdout",
          "text": [
            "3. 전등/스위치 on\n",
            "{'entity_id': 'light.nano_vdevo', 'alias': '라이트 나노 램프', 'state': 'on'}\n",
            "{'entity_id': 'switch.otopeulreiseu_kaendeulweomeo', 'alias': '캔들워머램프 김동은 프로 사무실', 'state': 'on'}\n",
            "{'entity_id': '', 'state': ''}\n",
            "{'entity_id': 'binary_sensor.letianpai_presence_sensor_box_occupancy_2', 'alias': 'LetianPai 재실센서', 'state': 'off'}\n"
          ]
        }
      ]
    },
    {
      "cell_type": "code",
      "source": [
        "print('4. 전등/스위치 off')\n",
        "for x in house: # {'main-light', 'desk-light', 'curtain', 'presense-sensor'}\n",
        "  onoff(x, 'off')\n",
        "  print(status(x))"
      ],
      "metadata": {
        "colab": {
          "base_uri": "https://localhost:8080/"
        },
        "id": "RdBpvSbRloUX",
        "outputId": "7c48c781-bec0-474f-c3f2-92af6760e572"
      },
      "execution_count": 17,
      "outputs": [
        {
          "output_type": "stream",
          "name": "stdout",
          "text": [
            "4. 전등/스위치 off\n",
            "{'entity_id': 'light.nano_vdevo', 'alias': '라이트 나노 램프', 'state': 'off'}\n",
            "{'entity_id': 'switch.otopeulreiseu_kaendeulweomeo', 'alias': '캔들워머램프 김동은 프로 사무실', 'state': 'off'}\n",
            "{'entity_id': '', 'state': ''}\n",
            "{'entity_id': 'binary_sensor.letianpai_presence_sensor_box_occupancy_2', 'alias': 'LetianPai 재실센서', 'state': 'off'}\n"
          ]
        }
      ]
    },
    {
      "cell_type": "code",
      "source": [
        "d1"
      ],
      "metadata": {
        "id": "vxc1CQPFlvaU"
      },
      "execution_count": null,
      "outputs": []
    },
    {
      "cell_type": "code",
      "source": [
        "house"
      ],
      "metadata": {
        "id": "rmgHsKhbmpq7"
      },
      "execution_count": null,
      "outputs": []
    },
    {
      "cell_type": "code",
      "source": [],
      "metadata": {
        "id": "neBDqmsen7ZS"
      },
      "execution_count": null,
      "outputs": []
    }
  ]
}