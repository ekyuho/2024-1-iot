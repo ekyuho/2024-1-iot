{
  "nbformat": 4,
  "nbformat_minor": 0,
  "metadata": {
    "colab": {
      "provenance": [],
      "authorship_tag": "ABX9TyMVx/ukLKm9ihhdyduCLAvN",
      "include_colab_link": true
    },
    "kernelspec": {
      "name": "python3",
      "display_name": "Python 3"
    },
    "language_info": {
      "name": "python"
    }
  },
  "cells": [
    {
      "cell_type": "markdown",
      "metadata": {
        "id": "view-in-github",
        "colab_type": "text"
      },
      "source": [
        "<a href=\"https://colab.research.google.com/github/ekyuho/2024-1-iot/blob/main/%EB%8F%99%EB%84%A4%EC%98%88%EB%B3%B4%EC%A1%B0%ED%9A%8C.ipynb\" target=\"_parent\"><img src=\"https://colab.research.google.com/assets/colab-badge.svg\" alt=\"Open In Colab\"/></a>"
      ]
    },
    {
      "cell_type": "code",
      "execution_count": 43,
      "metadata": {
        "colab": {
          "base_uri": "https://localhost:8080/"
        },
        "id": "yebU-vc-6RMa",
        "outputId": "1265ce83-c9cb-4885-b4d5-03f73a15391f"
      },
      "outputs": [
        {
          "output_type": "stream",
          "name": "stdout",
          "text": [
            "<?xml version=\"1.0\" encoding=\"UTF-8\"?>\r\n",
            "<response><header><resultCode>00</resultCode><resultMsg>NORMAL_SERVICE</resultMsg></header><body><dataType>XML</dataType><items><item><baseDate>20250314</baseDate><baseTime>0800</baseTime><category>PTY</category><nx>59</nx><ny>126</ny><obsrValue>0</obsrValue></item><item><baseDate>20250314</baseDate><baseTime>0800</baseTime><category>REH</category><nx>59</nx><ny>126</ny><obsrValue>45</obsrValue></item><item><baseDate>20250314</baseDate><baseTime>0800</baseTime><category>RN1</category><nx>59</nx><ny>126</ny><obsrValue>0</obsrValue></item><item><baseDate>20250314</baseDate><baseTime>0800</baseTime><category>T1H</category><nx>59</nx><ny>126</ny><obsrValue>8.7</obsrValue></item><item><baseDate>20250314</baseDate><baseTime>0800</baseTime><category>UUU</category><nx>59</nx><ny>126</ny><obsrValue>-0.2</obsrValue></item><item><baseDate>20250314</baseDate><baseTime>0800</baseTime><category>VEC</category><nx>59</nx><ny>126</ny><obsrValue>31</obsrValue></item><item><baseDate>20250314</baseDate><baseTime>0800</baseTime><category>VVV</category><nx>59</nx><ny>126</ny><obsrValue>-0.4</obsrValue></item><item><baseDate>20250314</baseDate><baseTime>0800</baseTime><category>WSD</category><nx>59</nx><ny>126</ny><obsrValue>0.6</obsrValue></item></items><numOfRows>10</numOfRows><pageNo>1</pageNo><totalCount>8</totalCount></body></response>\r\n",
            "\n"
          ]
        }
      ],
      "source": [
        "import requests\n",
        "\n",
        "url='https://apihub.kma.go.kr/api/typ02/openApi/VilageFcstInfoService_2.0/getUltraSrtNcst?authKey=SJ_ScRPIRWWf0nETyGVlCg&numOfRows=10&pageNo=1&base_date=20250314&base_time=0800&nx=59&ny=126'\n",
        "r=requests.get(url)\n",
        "print(r.text)"
      ]
    },
    {
      "cell_type": "code",
      "source": [
        "!pip install xmltodict"
      ],
      "metadata": {
        "colab": {
          "base_uri": "https://localhost:8080/"
        },
        "id": "9utAEcMbQ79f",
        "outputId": "0dc4cb7e-a9d4-468c-aec5-7848d919db9d"
      },
      "execution_count": 44,
      "outputs": [
        {
          "output_type": "stream",
          "name": "stdout",
          "text": [
            "Requirement already satisfied: xmltodict in /usr/local/lib/python3.11/dist-packages (0.14.2)\n"
          ]
        }
      ]
    },
    {
      "cell_type": "code",
      "source": [
        "import xmltodict, json\n",
        "j = xmltodict.parse(r.text)\n",
        "json.dumps(j)"
      ],
      "metadata": {
        "colab": {
          "base_uri": "https://localhost:8080/",
          "height": 127
        },
        "id": "Ogh8vd_f65Wb",
        "outputId": "10b1d47f-55d9-4a62-b38f-ed8df5358b0f"
      },
      "execution_count": 45,
      "outputs": [
        {
          "output_type": "execute_result",
          "data": {
            "text/plain": [
              "'{\"response\": {\"header\": {\"resultCode\": \"00\", \"resultMsg\": \"NORMAL_SERVICE\"}, \"body\": {\"dataType\": \"XML\", \"items\": {\"item\": [{\"baseDate\": \"20250314\", \"baseTime\": \"0800\", \"category\": \"PTY\", \"nx\": \"59\", \"ny\": \"126\", \"obsrValue\": \"0\"}, {\"baseDate\": \"20250314\", \"baseTime\": \"0800\", \"category\": \"REH\", \"nx\": \"59\", \"ny\": \"126\", \"obsrValue\": \"45\"}, {\"baseDate\": \"20250314\", \"baseTime\": \"0800\", \"category\": \"RN1\", \"nx\": \"59\", \"ny\": \"126\", \"obsrValue\": \"0\"}, {\"baseDate\": \"20250314\", \"baseTime\": \"0800\", \"category\": \"T1H\", \"nx\": \"59\", \"ny\": \"126\", \"obsrValue\": \"8.7\"}, {\"baseDate\": \"20250314\", \"baseTime\": \"0800\", \"category\": \"UUU\", \"nx\": \"59\", \"ny\": \"126\", \"obsrValue\": \"-0.2\"}, {\"baseDate\": \"20250314\", \"baseTime\": \"0800\", \"category\": \"VEC\", \"nx\": \"59\", \"ny\": \"126\", \"obsrValue\": \"31\"}, {\"baseDate\": \"20250314\", \"baseTime\": \"0800\", \"category\": \"VVV\", \"nx\": \"59\", \"ny\": \"126\", \"obsrValue\": \"-0.4\"}, {\"baseDate\": \"20250314\", \"baseTime\": \"0800\", \"category\": \"WSD\", \"nx\": \"59\", \"ny\": \"126\", \"obsrValue\": \"0.6\"}]}, \"numOfRows\": \"10\", \"pageNo\": \"1\", \"totalCount\": \"8\"}}}'"
            ],
            "application/vnd.google.colaboratory.intrinsic+json": {
              "type": "string"
            }
          },
          "metadata": {},
          "execution_count": 45
        }
      ]
    },
    {
      "cell_type": "code",
      "source": [
        "j1=j.get('response').get('body').get('items').get('item')\n",
        "for x in j1:\n",
        "  print(x)"
      ],
      "metadata": {
        "colab": {
          "base_uri": "https://localhost:8080/"
        },
        "id": "cuhHk-OHLUaA",
        "outputId": "84b41899-35e2-429c-fd5c-990266ee3d57"
      },
      "execution_count": 46,
      "outputs": [
        {
          "output_type": "stream",
          "name": "stdout",
          "text": [
            "{'baseDate': '20250314', 'baseTime': '0800', 'category': 'PTY', 'nx': '59', 'ny': '126', 'obsrValue': '0'}\n",
            "{'baseDate': '20250314', 'baseTime': '0800', 'category': 'REH', 'nx': '59', 'ny': '126', 'obsrValue': '45'}\n",
            "{'baseDate': '20250314', 'baseTime': '0800', 'category': 'RN1', 'nx': '59', 'ny': '126', 'obsrValue': '0'}\n",
            "{'baseDate': '20250314', 'baseTime': '0800', 'category': 'T1H', 'nx': '59', 'ny': '126', 'obsrValue': '8.7'}\n",
            "{'baseDate': '20250314', 'baseTime': '0800', 'category': 'UUU', 'nx': '59', 'ny': '126', 'obsrValue': '-0.2'}\n",
            "{'baseDate': '20250314', 'baseTime': '0800', 'category': 'VEC', 'nx': '59', 'ny': '126', 'obsrValue': '31'}\n",
            "{'baseDate': '20250314', 'baseTime': '0800', 'category': 'VVV', 'nx': '59', 'ny': '126', 'obsrValue': '-0.4'}\n",
            "{'baseDate': '20250314', 'baseTime': '0800', 'category': 'WSD', 'nx': '59', 'ny': '126', 'obsrValue': '0.6'}\n"
          ]
        }
      ]
    },
    {
      "cell_type": "code",
      "source": [],
      "metadata": {
        "id": "JL0IUy8iQ7TG"
      },
      "execution_count": null,
      "outputs": []
    }
  ]
}