{
  "nbformat": 4,
  "nbformat_minor": 0,
  "metadata": {
    "colab": {
      "provenance": [],
      "authorship_tag": "ABX9TyP+1fNiqXB2veB1uMQlayN6",
      "include_colab_link": true
    },
    "kernelspec": {
      "name": "python3",
      "display_name": "Python 3"
    },
    "language_info": {
      "name": "python"
    }
  },
  "cells": [
    {
      "cell_type": "markdown",
      "metadata": {
        "id": "view-in-github",
        "colab_type": "text"
      },
      "source": [
        "<a href=\"https://colab.research.google.com/github/ekyuho/2024-1-iot/blob/main/whatsmatter.ipynb\" target=\"_parent\"><img src=\"https://colab.research.google.com/assets/colab-badge.svg\" alt=\"Open In Colab\"/></a>"
      ]
    },
    {
      "cell_type": "code",
      "execution_count": 1,
      "metadata": {
        "id": "K8QKamhK_7xj"
      },
      "outputs": [],
      "source": [
        "import requests\n",
        "import json\n",
        "\n",
        "api_key=''\n",
        "url='http://175.197.63.177:8000/local/api/'\n",
        "\n",
        "def run(t, method, h, j, p):\n",
        "    headers={'x-api-key':api_key}\n",
        "    headers.update(h)\n",
        "    print(url+t, method, p, j)\n",
        "    if method=='get': r=requests.get(url+t, headers=headers, params=p, timeout=10)\n",
        "    elif method=='post': r=requests.get(url+t, headers=headers, json=j, timeout=10)\n",
        "    elif method=='put': r=requests.put(url+t, headers=headers, json=j, timeout=10)\n",
        "    return r"
      ]
    },
    {
      "cell_type": "code",
      "source": [
        "print('1. 사용가능한 모든 디바이스 찾기')\n",
        "r=run('devices', 'get', h={}, j={}, p={})\n",
        "d1=r.json()\n",
        "print(f'got {len(d1)} devices','\\n')\n",
        "\n",
        "# 한집의 표준 모델, 즉 어떤 대상 집에는 다음 4가지의 디바이스가 있다고 가정, Query를 통해 유무 확인\n",
        "#  entity_id: 표준 명칭\n",
        "#  location: 특정 장치의 ID\n",
        "# 10월10일 스마트라이프 전시에는 다음 네가지 디바이스를 설치함.\n",
        "house={'main-light':{'entity_id':'light.nano_vdevo', 'location':''},\n",
        "       'desk-light':{'entity_id':'switch.otopeulreiseu_kaendeulweomeo', 'location':''},\n",
        "       'curtain':{'entity_id':'', 'location':''},\n",
        "       'presense-sensor':{'entity_id':'binary_sensor.letianpai_presence_sensor_box_occupancy_2', 'location':''}\n",
        "      }\n",
        "rooms=set([])\n",
        "\n",
        "def match(d):\n",
        "    global house, rooms\n",
        "    for x in house:\n",
        "        if house[x]['entity_id']==d['entity_id']:\n",
        "            house[x]['location']=d['location']\n",
        "            house[x]['alias']=d['alias']\n",
        "            rooms.add(d['location'])\n",
        "\n",
        "            #r=run(f\"devices/{d['entity_id']}/services\", 'get', h={}, j={}, p={})  # 실제 사용하는 케이스 없음.\n",
        "            #house[x]['service']=r.json()\n",
        "            return True\n",
        "    return False\n",
        "\n",
        "for d in d1:\n",
        "    if match(d):\n",
        "        print('matched', d)\n",
        "\n",
        "print('rooms=', rooms)"
      ],
      "metadata": {
        "colab": {
          "base_uri": "https://localhost:8080/"
        },
        "id": "sPEte1BAADGc",
        "outputId": "7f9ca142-cbbb-4411-8f08-f9e56c38de48"
      },
      "execution_count": 4,
      "outputs": [
        {
          "output_type": "stream",
          "name": "stdout",
          "text": [
            "1. 사용가능한 모든 디바이스 찾기\n",
            "http://175.197.63.177:8000/local/api/devices get {} {}\n",
            "got 10 devices \n",
            "\n",
            "matched {'alias': '라이트 나노 램프', 'entity_id': 'light.nano_vdevo', 'location': 'test_room_id_1724216213468'}\n",
            "matched {'alias': '캔들워머램프 김동은 프로 사무실', 'entity_id': 'switch.otopeulreiseu_kaendeulweomeo', 'location': 'test_room_id_1724226467853'}\n",
            "matched {'alias': 'LetianPai 재실센서', 'entity_id': 'binary_sensor.letianpai_presence_sensor_box_occupancy_2', 'location': 'test_room_id_1724320457362'}\n",
            "rooms= {'test_room_id_1724226467853', 'test_room_id_1724216213468', 'test_room_id_1724320457362'}\n"
          ]
        }
      ]
    },
    {
      "cell_type": "code",
      "source": [
        "print('2. 각 디바이스 상태')\n",
        "for x in house:\n",
        "    d=house[x]\n",
        "    r=run(f\"states/{d['entity_id']}\", 'get', h={}, j={}, p={})\n",
        "    try:\n",
        "        d['state']=r.json()['state']\n",
        "    except:\n",
        "        d['state']=''\n",
        "    print(d)"
      ],
      "metadata": {
        "id": "-u7b7L4PAc7g",
        "outputId": "f3cc4631-f832-4770-d1a7-e4b2c276499d",
        "colab": {
          "base_uri": "https://localhost:8080/"
        }
      },
      "execution_count": 5,
      "outputs": [
        {
          "output_type": "stream",
          "name": "stdout",
          "text": [
            "2. 각 디바이스 상태\n",
            "http://175.197.63.177:8000/local/api/states/light.nano_vdevo get {} {}\n",
            "{'entity_id': 'light.nano_vdevo', 'location': 'test_room_id_1724216213468', 'alias': '라이트 나노 램프', 'state': 'on'}\n",
            "http://175.197.63.177:8000/local/api/states/switch.otopeulreiseu_kaendeulweomeo get {} {}\n",
            "{'entity_id': 'switch.otopeulreiseu_kaendeulweomeo', 'location': 'test_room_id_1724226467853', 'alias': '캔들워머램프 김동은 프로 사무실', 'state': 'off'}\n",
            "http://175.197.63.177:8000/local/api/states/ get {} {}\n",
            "{'entity_id': '', 'location': '', 'state': ''}\n",
            "http://175.197.63.177:8000/local/api/states/binary_sensor.letianpai_presence_sensor_box_occupancy_2 get {} {}\n",
            "{'entity_id': 'binary_sensor.letianpai_presence_sensor_box_occupancy_2', 'location': 'test_room_id_1724320457362', 'alias': 'LetianPai 재실센서', 'state': 'off'}\n"
          ]
        }
      ]
    },
    {
      "cell_type": "code",
      "source": [
        "print('3. 전등/스위치 on/off')\n",
        "for x in house:\n",
        "    d=house[x]\n",
        "    data={\n",
        "        \"domain\": \"light\",\n",
        "        \"service\" : \"turn_on\",\n",
        "        \"rgb_color\" : [255,255,255]\n",
        "    }\n",
        "    r=run(f\"devices/{d['entity_id']}/command\", 'post', h={}, j=data, p={})  # 일단 light와 switch에 대해 tunn_on 하면 허용안된다는 405 코드리턴.\n",
        "    print(r)"
      ],
      "metadata": {
        "id": "-jI0d-CdlJBl",
        "outputId": "8c1d1b5b-1b0b-4204-b48c-481659cdb586",
        "colab": {
          "base_uri": "https://localhost:8080/"
        }
      },
      "execution_count": 6,
      "outputs": [
        {
          "output_type": "stream",
          "name": "stdout",
          "text": [
            "3. 전등/스위치 on/off\n",
            "http://175.197.63.177:8000/local/api/devices/light.nano_vdevo/command post {} {'domain': 'light', 'service': 'turn_on', 'rgb_color': [255, 255, 255]}\n",
            "<Response [405]>\n",
            "http://175.197.63.177:8000/local/api/devices/switch.otopeulreiseu_kaendeulweomeo/command post {} {'domain': 'light', 'service': 'turn_on', 'rgb_color': [255, 255, 255]}\n",
            "<Response [405]>\n",
            "http://175.197.63.177:8000/local/api/devices//command post {} {'domain': 'light', 'service': 'turn_on', 'rgb_color': [255, 255, 255]}\n",
            "<Response [404]>\n",
            "http://175.197.63.177:8000/local/api/devices/binary_sensor.letianpai_presence_sensor_box_occupancy_2/command post {} {'domain': 'light', 'service': 'turn_on', 'rgb_color': [255, 255, 255]}\n",
            "<Response [405]>\n"
          ]
        }
      ]
    }
  ]
}